{
  "nbformat": 4,
  "nbformat_minor": 0,
  "metadata": {
    "colab": {
      "provenance": [],
      "authorship_tag": "ABX9TyP/J9J5GBvy1LRom3SKvGXP",
      "include_colab_link": true
    },
    "kernelspec": {
      "name": "python3",
      "display_name": "Python 3"
    },
    "language_info": {
      "name": "python"
    }
  },
  "cells": [
    {
      "cell_type": "markdown",
      "metadata": {
        "id": "view-in-github",
        "colab_type": "text"
      },
      "source": [
        "<a href=\"https://colab.research.google.com/github/iam-leviathan/Leviathan/blob/main/Labib_Kelompok_5.ipynb\" target=\"_parent\"><img src=\"https://colab.research.google.com/assets/colab-badge.svg\" alt=\"Open In Colab\"/></a>"
      ]
    },
    {
      "cell_type": "code",
      "execution_count": null,
      "metadata": {
        "id": "8TMv7g7O_b9p",
        "colab": {
          "base_uri": "https://localhost:8080/"
        },
        "outputId": "51268968-8a56-4337-9e77-fb784c3ff7bf"
      },
      "outputs": [
        {
          "output_type": "stream",
          "name": "stdout",
          "text": [
            "halo sayang\n"
          ]
        }
      ],
      "source": [
        "#coding labib\n",
        "print(\"halo sayang\")"
      ]
    },
    {
      "cell_type": "code",
      "source": [
        "\n",
        "#Float tipe data untuk menghitung angka di belakang koma\n",
        "x = float(5.8765)\n",
        "#int tipe data untuk menghitung angka desimal\n",
        "y = int(7)\n",
        "#Complex menghitung angka aritmatika dengan variabel\n",
        "z = complex (1)\n",
        "#Print ini digunakan untuk menampilkan hasil / output\n",
        "print(x)\n",
        "print(y)\n",
        "print(z)"
      ],
      "metadata": {
        "id": "KUrc5mMpDgVz",
        "colab": {
          "base_uri": "https://localhost:8080/"
        },
        "outputId": "15dc6dde-f2bd-4f6f-b349-a0e7993588b0"
      },
      "execution_count": null,
      "outputs": [
        {
          "output_type": "stream",
          "name": "stdout",
          "text": [
            "5.8765\n",
            "7\n",
            "(1+0j)\n"
          ]
        }
      ]
    },
    {
      "cell_type": "code",
      "source": [
        "#tuliskan data berisi umur, tanggal lahir, hobi\n",
        "x = int(17)\n",
        "y = str ('tanggal lahir')\n",
        "z = str ('hoby')\n",
        "str = ('7 april 2009')\n",
        "str = ('menggambar')\n",
        "print(x)\n",
        "print(y)\n",
        "print(z)\n",
        "print(str)"
      ],
      "metadata": {
        "colab": {
          "base_uri": "https://localhost:8080/"
        },
        "id": "mXnv26nIGUmj",
        "outputId": "1a22a8a8-1d9f-49ec-dc3e-8ceb10c85968"
      },
      "execution_count": null,
      "outputs": [
        {
          "output_type": "stream",
          "name": "stdout",
          "text": [
            "17\n",
            "tanggal lahir\n",
            "hoby\n",
            "menggambar\n"
          ]
        }
      ]
    }
  ]
}